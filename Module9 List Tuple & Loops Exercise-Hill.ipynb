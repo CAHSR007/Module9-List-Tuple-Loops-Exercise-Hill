{
 "cells": [
  {
   "cell_type": "markdown",
   "metadata": {},
   "source": [
    "### Exercise 1\n",
    "Ask a user for 5 names and place each one in to a list called <i>names</i>. Then, print <i>names</i>."
   ]
  },
  {
   "cell_type": "code",
   "execution_count": 8,
   "metadata": {},
   "outputs": [
    {
     "name": "stdout",
     "output_type": "stream",
     "text": [
      "Please enter name 1: moe\n",
      "Please enter name 2: jan\n",
      "Please enter name 3: al\n",
      "Please enter name 4: tom\n",
      "Please enter name 5: bob\n",
      "['moe', 'jan', 'al', 'tom', 'bob']\n"
     ]
    }
   ],
   "source": [
    "\n",
    "# Ask for 5 names\n",
    "\n",
    "\n",
    "# place the 5 names into a list called names    \n",
    "    \n",
    "# initialize the list\n",
    "\n",
    "names = []\n",
    "for i in range(5):\n",
    "    name = input(\"Please enter name {}: \".format(i+1))\n",
    "    names.append(name)\n",
    "\n",
    "# print names\n",
    "print(names)\n",
    "\n",
    "\n",
    "    \n"
   ]
  },
  {
   "cell_type": "markdown",
   "metadata": {},
   "source": [
    "### Exercise 2\n",
    "Print out a randomly selected name in the names list from exercise 1."
   ]
  },
  {
   "cell_type": "code",
   "execution_count": 22,
   "metadata": {
    "scrolled": true
   },
   "outputs": [
    {
     "name": "stdout",
     "output_type": "stream",
     "text": [
      "The randomly selected name is: jan\n"
     ]
    }
   ],
   "source": [
    "# Print out a randomly selected name in the names list from exercise 1.\n",
    "\n",
    "import random\n",
    "names = ['moe', 'jan', 'al', 'tom', 'bob']\n",
    "random_name = random.choice(names)\n",
    "\n",
    "print(\"The randomly selected name is:\", random_name)\n"
   ]
  },
  {
   "cell_type": "markdown",
   "metadata": {},
   "source": [
    "### Exercise 3: \n",
    "Fix bugs in the next cell.  It is trying to create a list for even numbers between two numbers provided by a user.\n"
   ]
  },
  {
   "cell_type": "code",
   "execution_count": 6,
   "metadata": {},
   "outputs": [
    {
     "name": "stdout",
     "output_type": "stream",
     "text": [
      "Enter a starting number: 2\n",
      "Enter an ending number: 6\n",
      "[2, 3, 4, 5]\n",
      "[2, 4]\n"
     ]
    }
   ],
   "source": [
    "no1 = int( input(\"Enter a starting number: \"))\n",
    "no2 = int(input(\"Enter an ending number: \"))\n",
    "\n",
    "numbers = []\n",
    "evens = []\n",
    "\n",
    "for i in range(no1, no2) :\n",
    "    numbers.append(i) \n",
    "    if (i % 2 == 0):    # even number\n",
    "        evens.append(i)\n",
    "    \n",
    "print(numbers)    \n",
    "print(evens)"
   ]
  },
  {
   "cell_type": "markdown",
   "metadata": {},
   "source": [
    "### Exercise 4\n",
    "Finish writing a program to generate 10 random numbers between 1 and 100 and save it to a list.\n",
    "Finally, print out the original numbers followed by the smallest, largest, and average number."
   ]
  },
  {
   "cell_type": "code",
   "execution_count": 7,
   "metadata": {},
   "outputs": [
    {
     "name": "stdout",
     "output_type": "stream",
     "text": [
      "The original numbers are [23, 40, 18, 83, 88, 1, 41, 44, 71, 44]\n",
      "The sorted numbers are [1, 18, 23, 40, 41, 44, 44, 71, 83, 88]\n",
      "The smallest number is 1\n",
      "The largest number is 88\n",
      "The average number is 45.3\n"
     ]
    }
   ],
   "source": [
    "#import random\n",
    "\n",
    "import random \n",
    "\n",
    "numbers = []\n",
    "\n",
    "# Generate 10 random numbers and add them to the list\n",
    "for i in range(10):\n",
    "    random_numb = random.randint(1, 100)\n",
    "    numbers.append(random_numb)\n",
    "\n",
    "# Print the original numbers\n",
    "print(f\"The original numbers are {numbers}\")\n",
    "\n",
    "# Sort the list\n",
    "numbers.sort()\n",
    "\n",
    "# Print the sorted list\n",
    "print(f\"The sorted numbers are {numbers}\")\n",
    "\n",
    "# Calculate and print the smallest, largest, and average numbers\n",
    "print(f\"The smallest number is {min(numbers)}\")\n",
    "print(f\"The largest number is {max(numbers)}\")\n",
    "print(f\"The average number is {sum(numbers)/len(numbers)}\")\n",
    "\n",
    "\n",
    "\n"
   ]
  },
  {
   "cell_type": "markdown",
   "metadata": {},
   "source": [
    "### Exercise 5\n",
    "\n",
    "Write a function called <b>draw_triangle()</b> to draw a right triangle where the base of the triangle is the number passed in as an arguement. Call <b>draw_triangle()</b> to show it works.\n",
    "\n",
    "e.g. <b>draw_triangle(7)</b> draws as below:\n",
    "\n",
    "    *\n",
    "    **\n",
    "    ***\n",
    "    ****\n",
    "    *****\n",
    "    ******\n",
    "    *******\n"
   ]
  },
  {
   "cell_type": "code",
   "execution_count": 87,
   "metadata": {},
   "outputs": [
    {
     "name": "stdout",
     "output_type": "stream",
     "text": [
      "*\n",
      "**\n",
      "***\n",
      "****\n",
      "*****\n",
      "******\n",
      "*******\n",
      "********\n",
      "*********\n",
      "**********\n",
      "***********\n",
      "************\n",
      "*************\n",
      "**************\n",
      "***************\n",
      "****************\n",
      "*****************\n",
      "******************\n",
      "*******************\n",
      "********************\n"
     ]
    }
   ],
   "source": [
    "# write code for draw_triangle() function\n",
    "\n",
    "def draw_triangle(n):\n",
    "    for i in range(n):\n",
    "        print('*' * (i+1))\n",
    "\n",
    "# Call the function with base 20\n",
    "draw_triangle(20)\n",
    "\n",
    "\n",
    "\n"
   ]
  },
  {
   "cell_type": "code",
   "execution_count": null,
   "metadata": {
    "scrolled": true
   },
   "outputs": [],
   "source": []
  },
  {
   "cell_type": "code",
   "execution_count": null,
   "metadata": {},
   "outputs": [],
   "source": []
  },
  {
   "cell_type": "code",
   "execution_count": null,
   "metadata": {},
   "outputs": [],
   "source": []
  },
  {
   "cell_type": "code",
   "execution_count": null,
   "metadata": {},
   "outputs": [],
   "source": []
  },
  {
   "cell_type": "code",
   "execution_count": null,
   "metadata": {},
   "outputs": [],
   "source": []
  }
 ],
 "metadata": {
  "kernelspec": {
   "display_name": "Python 3 (ipykernel)",
   "language": "python",
   "name": "python3"
  },
  "language_info": {
   "codemirror_mode": {
    "name": "ipython",
    "version": 3
   },
   "file_extension": ".py",
   "mimetype": "text/x-python",
   "name": "python",
   "nbconvert_exporter": "python",
   "pygments_lexer": "ipython3",
   "version": "3.11.4"
  }
 },
 "nbformat": 4,
 "nbformat_minor": 4
}
